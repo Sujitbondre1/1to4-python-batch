{
 "cells": [
  {
   "cell_type": "markdown",
   "id": "cb772de6",
   "metadata": {},
   "source": [
    " # Session 2"
   ]
  },
  {
   "cell_type": "markdown",
   "id": "3e1835ee",
   "metadata": {},
   "source": [
    "- We have two types of functions in python:\n",
    "- Built-in functions: These are the functions that are pre-defined in Python and can be used directly without any need for definition. Examples include `print()`, `len()`, `type()`, etc.\n",
    "- User-defined functions: These are the functions that are defined by the user to perform specific tasks. They are created using the `def` keyword followed by the function name and parentheses. For example:"
   ]
  },
  {
   "cell_type": "code",
   "execution_count": 4,
   "id": "5756be79",
   "metadata": {},
   "outputs": [
    {
     "data": {
      "text/plain": [
       "11"
      ]
     },
     "execution_count": 4,
     "metadata": {},
     "output_type": "execute_result"
    }
   ],
   "source": [
    "len('Sujit bodre')"
   ]
  },
  {
   "cell_type": "markdown",
   "id": "c7f9be64",
   "metadata": {},
   "source": [
    "# User defined function "
   ]
  },
  {
   "cell_type": "markdown",
   "id": "3f3c43ef",
   "metadata": {},
   "source": [
    "1) two types of functions in python:\n",
    "a) defined functions\n",
    "b) calling functions"
   ]
  },
  {
   "cell_type": "markdown",
   "id": "74095544",
   "metadata": {},
   "source": [
    "- def function_name(parameters list):\n",
    "  =   logical parts"
   ]
  },
  {
   "cell_type": "code",
   "execution_count": 5,
   "id": "15ff6d57",
   "metadata": {},
   "outputs": [],
   "source": [
    "def greet():\n",
    "    print(\"Sujit bondre\")"
   ]
  },
  {
   "cell_type": "code",
   "execution_count": 6,
   "id": "2169c0e4",
   "metadata": {},
   "outputs": [
    {
     "name": "stdout",
     "output_type": "stream",
     "text": [
      "Sujit bondre\n"
     ]
    }
   ],
   "source": [
    "greet()"
   ]
  },
  {
   "cell_type": "code",
   "execution_count": 7,
   "metadata": {},
   "outputs": [],
   "source": [
    "#  functions with parameters\n",
    "def greet1(name):\n",
    "    print(f\"Hello, {name}!\")"
   ]
  },
  {
   "cell_type": "code",
   "execution_count": 8,
   "metadata": {},
   "outputs": [
    {
     "name": "stdout",
     "output_type": "stream",
     "text": [
      "Hello, Sujit!\n"
     ]
    }
   ],
   "source": [
    "greet1(\"Sujit\")"
   ]
  },
  {
   "cell_type": "code",
   "execution_count": 9,
   "metadata": {},
   "outputs": [],
   "source": [
    "def add(x, y):\n",
    "    print(f'Addition of {x} and {y} is {x+y}')"
   ]
  },
  {
   "cell_type": "code",
   "execution_count": 10,
   "id": "c721884f",
   "metadata": {},
   "outputs": [
    {
     "name": "stdout",
     "output_type": "stream",
     "text": [
      "Addition of 5 and 10 is 15\n"
     ]
    }
   ],
   "source": [
    "add(5, 10)"
   ]
  },
  {
   "cell_type": "code",
   "execution_count": 11,
   "metadata": {},
   "outputs": [
    {
     "name": "stdout",
     "output_type": "stream",
     "text": [
      "Addition of 5 and 55555 is 55560\n"
     ]
    }
   ],
   "source": [
    "add(5, 55555)"
   ]
  },
  {
   "cell_type": "code",
   "execution_count": 12,
   "metadata": {},
   "outputs": [],
   "source": [
    "def table(n):\n",
    "    for i in range(1, 11):\n",
    "        print(n*i)"
   ]
  },
  {
   "cell_type": "code",
   "execution_count": 13,
   "metadata": {},
   "outputs": [
    {
     "name": "stdout",
     "output_type": "stream",
     "text": [
      "5\n",
      "10\n",
      "15\n",
      "20\n",
      "25\n",
      "30\n",
      "35\n",
      "40\n",
      "45\n",
      "50\n"
     ]
    }
   ],
   "source": [
    "table(5)"
   ]
  },
  {
   "cell_type": "code",
   "execution_count": 14,
   "metadata": {},
   "outputs": [],
   "source": [
    "lst=[3,5,7,8,9,23,45,67]"
   ]
  },
  {
   "cell_type": "code",
   "execution_count": 40,
   "id": "7be6b4ed",
   "metadata": {},
   "outputs": [],
   "source": [
    "def sq(l):\n",
    "    for i in l: \n",
    "     print(i*i)"
   ]
  },
  {
   "cell_type": "code",
   "execution_count": 41,
   "metadata": {},
   "outputs": [
    {
     "name": "stdout",
     "output_type": "stream",
     "text": [
      "9\n",
      "25\n",
      "49\n",
      "64\n",
      "81\n",
      "529\n",
      "2025\n",
      "4489\n"
     ]
    }
   ],
   "source": [
    "sq(lst)"
   ]
  },
  {
   "cell_type": "markdown",
   "id": "a2a6a29b",
   "metadata": {},
   "source": [
    "find cube of given numbers "
   ]
  },
  {
   "cell_type": "code",
   "execution_count": 42,
   "id": "3d3dbd19",
   "metadata": {},
   "outputs": [],
   "source": [
    "def cal_cube(n):\n",
    "    print(f'Cube of a number {n} is {n*n*n}')"
   ]
  },
  {
   "cell_type": "code",
   "execution_count": 43,
   "id": "95d86aa6",
   "metadata": {},
   "outputs": [
    {
     "name": "stdout",
     "output_type": "stream",
     "text": [
      "Cube of a number 5 is 125\n"
     ]
    }
   ],
   "source": [
    "cal_cube(5)"
   ]
  },
  {
   "cell_type": "code",
   "execution_count": 44,
   "id": "8381136c",
   "metadata": {},
   "outputs": [
    {
     "name": "stdout",
     "output_type": "stream",
     "text": [
      "Cube of a number 9 is 729\n"
     ]
    }
   ],
   "source": [
    "cal_cube(9)"
   ]
  },
  {
   "cell_type": "code",
   "execution_count": 45,
   "id": "26c8993d",
   "metadata": {},
   "outputs": [],
   "source": [
    "# with return type\n",
    "def cal_square(n):\n",
    "    return n*n"
   ]
  },
  {
   "cell_type": "code",
   "execution_count": 46,
   "id": "3db7c138",
   "metadata": {},
   "outputs": [
    {
     "name": "stdout",
     "output_type": "stream",
     "text": [
      "Cube of a number 5 is 125\n"
     ]
    }
   ],
   "source": [
    "cal_cube(5)"
   ]
  },
  {
   "cell_type": "code",
   "execution_count": 47,
   "id": "e42bd2a2",
   "metadata": {},
   "outputs": [],
   "source": [
    "result=cal_square(6)"
   ]
  },
  {
   "cell_type": "code",
   "execution_count": 48,
   "id": "458f8789",
   "metadata": {},
   "outputs": [
    {
     "data": {
      "text/plain": [
       "36"
      ]
     },
     "execution_count": 48,
     "metadata": {},
     "output_type": "execute_result"
    }
   ],
   "source": [
    "result"
   ]
  },
  {
   "cell_type": "code",
   "execution_count": null,
   "id": "6280e769",
   "metadata": {},
   "outputs": [],
   "source": []
  }
 ],
 "metadata": {
  "kernelspec": {
   "display_name": "Python 3",
   "language": "python",
   "name": "python3"
  },
  "language_info": {
   "codemirror_mode": {
    "name": "ipython",
    "version": 3
   },
   "file_extension": ".py",
   "mimetype": "text/x-python",
   "name": "python",
   "nbconvert_exporter": "python",
   "pygments_lexer": "ipython3",
   "version": "3.13.7"
  }
 },
 "nbformat": 4,
 "nbformat_minor": 5
}
