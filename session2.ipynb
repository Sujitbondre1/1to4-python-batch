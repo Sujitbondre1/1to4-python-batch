{
 "cells": [
  {
   "cell_type": "markdown",
   "id": "2c4e24c8",
   "metadata": {},
   "source": [
    "# Session 2"
   ]
  },
  {
   "cell_type": "code",
   "execution_count": 2,
   "id": "bce29b2d",
   "metadata": {},
   "outputs": [
    {
     "name": "stdout",
     "output_type": "stream",
     "text": [
      "We aregoing to learn about functions\n"
     ]
    }
   ],
   "source": [
    "print('We aregoing to learn about functions')"
   ]
  },
  {
   "cell_type": "code",
   "execution_count": 4,
   "id": "838b0185",
   "metadata": {},
   "outputs": [],
   "source": [
    "dict1={\n",
    "    'name':\"sujit\", \n",
    "    'age':24,\n",
    "    'city':\"Bangalore\"\n",
    "}"
   ]
  },
  {
   "cell_type": "code",
   "execution_count": 5,
   "id": "7f101939",
   "metadata": {},
   "outputs": [
    {
     "data": {
      "text/plain": [
       "{'name': 'sujit', 'age': 24, 'city': 'Bangalore'}"
      ]
     },
     "execution_count": 5,
     "metadata": {},
     "output_type": "execute_result"
    }
   ],
   "source": [
    "dict1"
   ]
  },
  {
   "cell_type": "code",
   "execution_count": null,
   "id": "b683fca3",
   "metadata": {},
   "outputs": [],
   "source": []
  }
 ],
 "metadata": {
  "kernelspec": {
   "display_name": "Python 3",
   "language": "python",
   "name": "python3"
  },
  "language_info": {
   "codemirror_mode": {
    "name": "ipython",
    "version": 3
   },
   "file_extension": ".py",
   "mimetype": "text/x-python",
   "name": "python",
   "nbconvert_exporter": "python",
   "pygments_lexer": "ipython3",
   "version": "3.13.7"
  }
 },
 "nbformat": 4,
 "nbformat_minor": 5
}
