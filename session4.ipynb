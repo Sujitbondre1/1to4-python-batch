{
 "cells": [
  {
   "cell_type": "markdown",
   "id": "23549a06",
   "metadata": {},
   "source": [
    "*args, **kwargs\n"
   ]
  },
  {
   "cell_type": "markdown",
   "id": "bb4051b2",
   "metadata": {},
   "source": [
    "in arguments we can pass multiple values"
   ]
  },
  {
   "cell_type": "code",
   "execution_count": 7,
   "id": "dd81b715",
   "metadata": {},
   "outputs": [],
   "source": [
    "# calculate area of rectangle\n",
    "def area_rectangle(l,b):\n",
    "    Aor=l*b\n",
    "    print(f'Area of rectangle  is {Aor}')"
   ]
  },
  {
   "cell_type": "code",
   "execution_count": 8,
   "id": "4b803aeb",
   "metadata": {},
   "outputs": [
    {
     "name": "stdout",
     "output_type": "stream",
     "text": [
      "Area of rectangle  is 30\n"
     ]
    }
   ],
   "source": [
    "area_rectangle(5,6)"
   ]
  },
  {
   "cell_type": "code",
   "execution_count": 10,
   "id": "c9def8f7",
   "metadata": {},
   "outputs": [],
   "source": [
    "# argument\n",
    "# sum of all values present in  a parameter"
   ]
  },
  {
   "cell_type": "code",
   "execution_count": 21,
   "metadata": {},
   "outputs": [],
   "source": [
    "def cal_sum(*args):\n",
    "    sum=0\n",
    "    for i in args:\n",
    "        sum=sum+i\n",
    "    return f\"Sum of all values is :{sum}\""
   ]
  },
  {
   "cell_type": "code",
   "execution_count": 22,
   "id": "dd949c2c",
   "metadata": {},
   "outputs": [
    {
     "data": {
      "text/plain": [
       "'Sum of all values is :9'"
      ]
     },
     "execution_count": 22,
     "metadata": {},
     "output_type": "execute_result"
    }
   ],
   "source": [
    "cal_sum(2,3,4)"
   ]
  },
  {
   "cell_type": "code",
   "execution_count": 23,
   "id": "695cd0a5",
   "metadata": {},
   "outputs": [
    {
     "data": {
      "text/plain": [
       "'Sum of all values is :273'"
      ]
     },
     "execution_count": 23,
     "metadata": {},
     "output_type": "execute_result"
    }
   ],
   "source": [
    "cal_sum(9,8,7,4,5,6,9,8,7,4,5,6,9,8,7,4,5,6,9,8,7,4,5,6,9,8,7,4,5,6,9,8,7,4,5,6,9,8,7,4,5,6)"
   ]
  },
  {
   "cell_type": "code",
   "execution_count": 24,
   "id": "a91ff782",
   "metadata": {},
   "outputs": [],
   "source": [
    "\n",
    "lst=[8,9,6,8,7,5,9,8,]"
   ]
  },
  {
   "cell_type": "code",
   "execution_count": 25,
   "id": "6e0cce87",
   "metadata": {},
   "outputs": [
    {
     "data": {
      "text/plain": [
       "'Sum of all values is :60'"
      ]
     },
     "execution_count": 25,
     "metadata": {},
     "output_type": "execute_result"
    }
   ],
   "source": [
    "# list unpacking\n",
    "cal_sum(*lst)"
   ]
  },
  {
   "cell_type": "code",
   "execution_count": 26,
   "id": "f4052da7",
   "metadata": {},
   "outputs": [],
   "source": [
    "# **kwargs"
   ]
  },
  {
   "cell_type": "code",
   "execution_count": 27,
   "id": "f9ce8d00",
   "metadata": {},
   "outputs": [],
   "source": [
    "def display_data(**kwargs): #('Key':\"values\")\n",
    "    print(f\"values: {kwargs}\")"
   ]
  },
  {
   "cell_type": "code",
   "execution_count": 28,
   "id": "ea494b90",
   "metadata": {},
   "outputs": [
    {
     "name": "stdout",
     "output_type": "stream",
     "text": [
      "values: {'name': 'Sujit', 'age': 77, 'Salary': 50000000000}\n"
     ]
    }
   ],
   "source": [
    "display_data(name=\"Sujit\",age=77,Salary=50000000000)"
   ]
  },
  {
   "cell_type": "code",
   "execution_count": 30,
   "id": "134b648d",
   "metadata": {},
   "outputs": [],
   "source": [
    "menu={\n",
    "    \"pizza\":250,\n",
    "    \"pasta\":200,\n",
    "    \"burger\":150,\n",
    "    \"vadapav\":50\n",
    "}"
   ]
  },
  {
   "cell_type": "code",
   "execution_count": 54,
   "id": "b15ef3ad",
   "metadata": {},
   "outputs": [],
   "source": [
    "def cal_men(**kwargs):\n",
    "    total_bill=0\n",
    "    for Items,price in kwargs.items():\n",
    "        print(f\"items: {Items}, price : {price}\")\n",
    "        total_bill=total_bill+price\n",
    "    return f\"total bill is : {total_bill}\"\n",
    "\n"
   ]
  },
  {
   "cell_type": "code",
   "execution_count": 55,
   "id": "cef8ed2f",
   "metadata": {},
   "outputs": [
    {
     "name": "stdout",
     "output_type": "stream",
     "text": [
      "items: pizza, price : 250\n",
      "items: pasta, price : 200\n",
      "items: burger, price : 150\n",
      "items: vadapav, price : 50\n"
     ]
    },
    {
     "data": {
      "text/plain": [
       "'total bill is : 650'"
      ]
     },
     "execution_count": 55,
     "metadata": {},
     "output_type": "execute_result"
    }
   ],
   "source": [
    "cal_men(**menu)"
   ]
  },
  {
   "cell_type": "code",
   "execution_count": 56,
   "id": "3016ab9d",
   "metadata": {},
   "outputs": [],
   "source": [
    "# Another example by maam"
   ]
  },
  {
   "cell_type": "code",
   "execution_count": 64,
   "id": "10fb8abc",
   "metadata": {},
   "outputs": [],
   "source": [
    "def rest_billing(**kwargs):\n",
    "    bill=0\n",
    "    for food,qty in kwargs.items():\n",
    "        amt=menu.get(food)*qty\n",
    "        bill=bill+amt\n",
    "        print(f\"Food :{food}, Quantity : {qty}, amount : {amt}\")\n",
    "        print('-----------------------------------------------------')\n",
    "    return f\"Total bill is : {bill}\""
   ]
  },
  {
   "cell_type": "code",
   "execution_count": 65,
   "id": "44965cb4",
   "metadata": {},
   "outputs": [
    {
     "name": "stdout",
     "output_type": "stream",
     "text": [
      "Food :pizza, Quantity : 5, amount : 1250\n",
      "-----------------------------------------------------\n",
      "Food :pasta, Quantity : 3, amount : 600\n",
      "-----------------------------------------------------\n",
      "Food :burger, Quantity : 4, amount : 600\n",
      "-----------------------------------------------------\n"
     ]
    },
    {
     "data": {
      "text/plain": [
       "'Total bill is : 2450'"
      ]
     },
     "execution_count": 65,
     "metadata": {},
     "output_type": "execute_result"
    }
   ],
   "source": [
    "rest_billing(pizza=5, pasta=3, burger=4)"
   ]
  },
  {
   "cell_type": "code",
   "execution_count": 66,
   "id": "a031e4db",
   "metadata": {},
   "outputs": [],
   "source": [
    "# what is generator function : A function which contains yield keyword is called generator function.\n",
    "# why generator function : to save memory\n",
    "# how to call generator function : "
   ]
  },
  {
   "cell_type": "code",
   "execution_count": 67,
   "id": "10654e2a",
   "metadata": {},
   "outputs": [],
   "source": [
    "# fibonacci series\n",
    "# 0,1,1,2,3,5,8,13,21,34,55,89"
   ]
  },
  {
   "cell_type": "code",
   "execution_count": 68,
   "id": "da529425",
   "metadata": {},
   "outputs": [],
   "source": [
    "# # while loop \n",
    "# 1) inilitization\n",
    "# 2) condition\n",
    "# 3) increment/decrement"
   ]
  },
  {
   "cell_type": "code",
   "execution_count": 71,
   "id": "1c11fc59",
   "metadata": {},
   "outputs": [
    {
     "name": "stdout",
     "output_type": "stream",
     "text": [
      "1\n",
      "2\n",
      "3\n",
      "4\n",
      "5\n",
      "6\n",
      "7\n",
      "8\n",
      "9\n",
      "10\n"
     ]
    }
   ],
   "source": [
    "i=1\n",
    "while i<=10:\n",
    "    print(i)\n",
    "    i=i+1"
   ]
  },
  {
   "cell_type": "code",
   "execution_count": 72,
   "id": "8785380d",
   "metadata": {},
   "outputs": [],
   "source": [
    "# Print 1 to 10 numbers of sum "
   ]
  },
  {
   "cell_type": "code",
   "execution_count": 75,
   "id": "b92ea10c",
   "metadata": {},
   "outputs": [],
   "source": [
    "i=1\n",
    "sum=0\n",
    "while i<=5555:\n",
    "    sum=sum+i\n",
    "    i=i+1"
   ]
  },
  {
   "cell_type": "code",
   "execution_count": 76,
   "id": "b761d5ff",
   "metadata": {},
   "outputs": [
    {
     "data": {
      "text/plain": [
       "15431790"
      ]
     },
     "execution_count": 76,
     "metadata": {},
     "output_type": "execute_result"
    }
   ],
   "source": [
    "sum"
   ]
  },
  {
   "cell_type": "code",
   "execution_count": 81,
   "id": "1835672b",
   "metadata": {},
   "outputs": [
    {
     "name": "stdout",
     "output_type": "stream",
     "text": [
      "5\n",
      "10\n",
      "15\n",
      "20\n",
      "25\n",
      "30\n",
      "35\n",
      "40\n",
      "45\n",
      "50\n",
      "55\n"
     ]
    }
   ],
   "source": [
    "# Print table of any number using while loop\n",
    "i=1\n",
    "n=int(input(\"Enter any number : \"))\n",
    "while i<=11:\n",
    "    print(n*i)\n",
    "    i=i+1"
   ]
  },
  {
   "cell_type": "code",
   "execution_count": null,
   "id": "bfbd032c",
   "metadata": {},
   "outputs": [],
   "source": [
    "# generotor function\n",
    "# types of generator function\n",
    "# 1) using yield keyword\n",
    "2) "
   ]
  }
 ],
 "metadata": {
  "kernelspec": {
   "display_name": "Python 3",
   "language": "python",
   "name": "python3"
  },
  "language_info": {
   "codemirror_mode": {
    "name": "ipython",
    "version": 3
   },
   "file_extension": ".py",
   "mimetype": "text/x-python",
   "name": "python",
   "nbconvert_exporter": "python",
   "pygments_lexer": "ipython3",
   "version": "3.13.7"
  }
 },
 "nbformat": 4,
 "nbformat_minor": 5
}
