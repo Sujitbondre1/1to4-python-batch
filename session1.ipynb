{
 "cells": [
  {
   "cell_type": "markdown",
   "id": "5227c799",
   "metadata": {
    "vscode": {
     "languageId": "plaintext"
    }
   },
   "source": [
    "# session 1"
   ]
  },
  {
   "cell_type": "markdown",
   "id": "ecb6e8e4",
   "metadata": {},
   "source": [
    "- subheading 1\n",
    "- subheading 2"
   ]
  },
  {
   "cell_type": "code",
   "execution_count": 2,
   "id": "0dd6b940",
   "metadata": {},
   "outputs": [
    {
     "name": "stdout",
     "output_type": "stream",
     "text": [
      "Hello world\n"
     ]
    }
   ],
   "source": [
    "\n",
    "print('Hello world')"
   ]
  },
  {
   "cell_type": "code",
   "execution_count": 3,
   "id": "28d54627",
   "metadata": {},
   "outputs": [
    {
     "name": "stdout",
     "output_type": "stream",
     "text": [
      "16\n"
     ]
    }
   ],
   "source": [
    "print(8+8)"
   ]
  },
  {
   "cell_type": "code",
   "execution_count": null,
   "id": "c0313e4f",
   "metadata": {},
   "outputs": [],
   "source": []
  }
 ],
 "metadata": {
  "kernelspec": {
   "display_name": "Python 3",
   "language": "python",
   "name": "python3"
  },
  "language_info": {
   "codemirror_mode": {
    "name": "ipython",
    "version": 3
   },
   "file_extension": ".py",
   "mimetype": "text/x-python",
   "name": "python",
   "nbconvert_exporter": "python",
   "pygments_lexer": "ipython3",
   "version": "3.13.7"
  }
 },
 "nbformat": 4,
 "nbformat_minor": 5
}
