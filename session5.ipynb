{
 "cells": [
  {
   "cell_type": "markdown",
   "id": "daf94297",
   "metadata": {},
   "source": [
    "# Object oriented programming language (OOPS)\n",
    "WHAT IS oops?\n",
    "OOPS is a programming paradigm that uses \"objects\" to design software. It focuses on the concept of encapsulating data \n",
    "and behavior within objects, allowing for modular and reusable code."
   ]
  },
  {
   "cell_type": "markdown",
   "id": "d6eaf820",
   "metadata": {},
   "source": [
    "example of oops is a car. A car has attributes like color, model, and make, and it has behaviors like start, stop,\n",
    "and accelerate. In OOP, we can represent a car as a class with properties (attributes) and methods (behaviors)."
   ]
  },
  {
   "cell_type": "code",
   "execution_count": 2,
   "metadata": {},
   "outputs": [],
   "source": [
    "# What is class and object in Python?\n",
    "# A class in Python is a blueprint for creating objects. / collection of related data and functions.\n",
    "# An object is an instance of a class. It is created using the class definition and can hold data and behavior defined by the class."
   ]
  },
  {
   "cell_type": "code",
   "execution_count": 3,
   "id": "07428e1e",
   "metadata": {},
   "outputs": [],
   "source": [
    "class person:\n",
    "    def properties(self,name,age,salary ):\n",
    "        self.name=name\n",
    "        self.age=age\n",
    "        self.salary=salary\n",
    "    def details(self):\n",
    "        print(f'Name : {self.name}\\nAge : {self.age}\\nSalary : {self.salary}')"
   ]
  },
  {
   "cell_type": "code",
   "execution_count": 4,
   "id": "b934600e",
   "metadata": {},
   "outputs": [],
   "source": [
    "# Create an object "
   ]
  },
  {
   "cell_type": "code",
   "execution_count": 6,
   "id": "34070b5b",
   "metadata": {},
   "outputs": [
    {
     "name": "stdout",
     "output_type": "stream",
     "text": [
      "Name : Sujit\n",
      "Age : 24\n",
      "Salary : 25000\n"
     ]
    }
   ],
   "source": [
    "per1=person()\n",
    "per1.properties('Sujit',24,25000)\n",
    "per1.details()"
   ]
  },
  {
   "cell_type": "code",
   "execution_count": null,
   "id": "6006db40",
   "metadata": {},
   "outputs": [],
   "source": []
  },
  {
   "cell_type": "code",
   "execution_count": null,
   "metadata": {},
   "outputs": [],
   "source": []
  },
  {
   "cell_type": "code",
   "execution_count": null,
   "metadata": {},
   "outputs": [],
   "source": []
  },
  {
   "cell_type": "code",
   "execution_count": 7,
   "id": "c0835e7f",
   "metadata": {},
   "outputs": [],
   "source": [
    "# Create a class "
   ]
  },
  {
   "cell_type": "code",
   "execution_count": 9,
   "id": "92077e48",
   "metadata": {},
   "outputs": [],
   "source": [
    "class customer:\n",
    "    def data(self,name,email,product_id):\n",
    "        self.name=name\n",
    "        self.email=email\n",
    "        self.product_id=product_id\n",
    "    def show_data(self):\n",
    "        print(f'Customer name :{self.name}\\nEmail :{self.email}\\nproduct_id : {self.product_id}')"
   ]
  },
  {
   "cell_type": "code",
   "execution_count": 16,
   "id": "837d0fb4",
   "metadata": {},
   "outputs": [],
   "source": [
    "c1=customer()"
   ]
  },
  {
   "cell_type": "code",
   "execution_count": 17,
   "id": "f111ea1c",
   "metadata": {},
   "outputs": [],
   "source": [
    "c1.data(\"Sujit\",\"Sujitgmail.com\",\"10kjhgf1\")"
   ]
  },
  {
   "cell_type": "code",
   "execution_count": 18,
   "id": "7db99fac",
   "metadata": {},
   "outputs": [
    {
     "name": "stdout",
     "output_type": "stream",
     "text": [
      "Customer name :Sujit\n",
      "Email :Sujitgmail.com\n",
      "product_id : 10kjhgf1\n"
     ]
    }
   ],
   "source": [
    "c1.show_data()"
   ]
  },
  {
   "cell_type": "code",
   "execution_count": 19,
   "id": "1956f971",
   "metadata": {},
   "outputs": [
    {
     "name": "stdout",
     "output_type": "stream",
     "text": [
      "Customer name :Amit\n",
      "Email :Amitgmail.com\n",
      "product_id : 10kjhgf2\n"
     ]
    }
   ],
   "source": [
    "c2=customer()\n",
    "c2.data(\"Amit\",\"Amitgmail.com\",\"10kjhgf2\")\n",
    "c2.show_data()"
   ]
  },
  {
   "cell_type": "code",
   "execution_count": 20,
   "id": "f95e571f",
   "metadata": {},
   "outputs": [],
   "source": [
    "# class example 3 (practice)"
   ]
  },
  {
   "cell_type": "code",
   "execution_count": 25,
   "id": "e8ca026f",
   "metadata": {},
   "outputs": [],
   "source": [
    "class cars:\n",
    "    def cars_info(self,brand,price,color):\n",
    "        self.brand=brand\n",
    "        self.price=price\n",
    "        self.color=color\n",
    "    def show_info(self):\n",
    "            print(f\"Brand : {self.brand}\\nPrice : {self.price}\\nColor : {self.color}\")"
   ]
  },
  {
   "cell_type": "code",
   "execution_count": 26,
   "id": "5181f2a4",
   "metadata": {},
   "outputs": [
    {
     "name": "stdout",
     "output_type": "stream",
     "text": [
      "Brand : Audi\n",
      "Price : 1cr\n",
      "Color : white\n"
     ]
    }
   ],
   "source": [
    "c1=cars()\n",
    "c1.cars_info(\"Audi\",\"1cr\",\"white\")\n",
    "c1.show_info()"
   ]
  },
  {
   "cell_type": "code",
   "execution_count": 27,
   "id": "528b7c12",
   "metadata": {},
   "outputs": [
    {
     "name": "stdout",
     "output_type": "stream",
     "text": [
      "Brand : BMW\n",
      "Price : 1.5CR\n",
      "Color : Red\n"
     ]
    }
   ],
   "source": [
    "c2=cars()\n",
    "c1.cars_info('BMW','1.5CR','Red')\n",
    "c1.show_info()"
   ]
  },
  {
   "cell_type": "markdown",
   "id": "5542c81a",
   "metadata": {},
   "source": [
    "# what is constructor in python?\n",
    "A constructor in Python is a special method that is automatically called when an object is created \n",
    "    "
   ]
  },
  {
   "cell_type": "code",
   "execution_count": 34,
   "id": "b95f41a5",
   "metadata": {},
   "outputs": [],
   "source": [
    "class greet:\n",
    "    def __init__(self):  \n",
    "       print(\"hello welcome to python class\")"
   ]
  },
  {
   "cell_type": "code",
   "execution_count": 45,
   "id": "05ff4460",
   "metadata": {},
   "outputs": [],
   "source": [
    "class car:\n",
    "    def __init__(self,brand,price,color):\n",
    "        self.brand=brand\n",
    "        self.price=price\n",
    "        self.color=color\n",
    "    def display(self):\n",
    "            print(f\"Brand : {self.brand}\\nPrice : {self.price}\\nColor : {self.color}\")"
   ]
  },
  {
   "cell_type": "code",
   "execution_count": 46,
   "id": "f5bfd870",
   "metadata": {},
   "outputs": [
    {
     "name": "stdout",
     "output_type": "stream",
     "text": [
      "Brand : Audi\n",
      "Price : 1CR\n",
      "Color : White\n"
     ]
    }
   ],
   "source": [
    "c1=car('Audi','1CR','White')\n",
    "c1.display()"
   ]
  },
  {
   "cell_type": "code",
   "execution_count": 47,
   "id": "dd139b92",
   "metadata": {},
   "outputs": [
    {
     "name": "stdout",
     "output_type": "stream",
     "text": [
      "Brand : Bmw\n",
      "Price : 1.5cr\n",
      "Color : Red\n"
     ]
    }
   ],
   "source": [
    "c2=car('Bmw','1.5cr','Red')\n",
    "c2.display()"
   ]
  },
  {
   "cell_type": "code",
   "execution_count": 48,
   "id": "5d415cc4",
   "metadata": {},
   "outputs": [],
   "source": [
    "# Bank account Example (practice )"
   ]
  },
  {
   "cell_type": "code",
   "execution_count": 71,
   "id": "c01294ea",
   "metadata": {},
   "outputs": [],
   "source": [
    "class bank:\n",
    "    def __init__(self,Account_no,Account_holder,balance):\n",
    "        self.Account_no=Account_no\n",
    "        self.Account_holder=Account_holder\n",
    "        self.balance=balance\n",
    "    def display(self):\n",
    "        print(f\"Account_no : {self.Account_no}\\nAccount_holder : {self.Account_holder}\\nBalance : {self.balance}\")\n",
    "\n",
    "    def deposit(self,deposit_money):\n",
    "        self.deposit_money=deposit_money\n",
    "        self.balance=self.balance+self.deposit_money\n",
    "        print(f\"The final amt after deposit of : {self.deposit_money} is {self.balance}\")\n",
    "\n",
    "    def withdraw(self,withdraw_money):\n",
    "        self.withdraw_money=withdraw_money\n",
    "        if self.withdraw_money<=self.balance:\n",
    "            self.balance=self.balance-self.withdraw_money\n",
    "            print(f\"The final amt after withdraw of : {self.withdraw_money} is {self.balance}\")\n",
    "        else:\n",
    "            print('insufficient money in your bank account')\n"
   ]
  },
  {
   "cell_type": "code",
   "execution_count": 75,
   "id": "21c573b6",
   "metadata": {},
   "outputs": [
    {
     "name": "stdout",
     "output_type": "stream",
     "text": [
      "Account_no : 9858587458\n",
      "Account_holder : Sujit\n",
      "Balance : 25000\n"
     ]
    }
   ],
   "source": [
    "c1=bank('9858587458','Sujit',25000)\n",
    "c1.display()"
   ]
  },
  {
   "cell_type": "code",
   "execution_count": 76,
   "id": "dde4fc92",
   "metadata": {},
   "outputs": [
    {
     "name": "stdout",
     "output_type": "stream",
     "text": [
      "The final amt after deposit of : 2000 is 27000\n"
     ]
    }
   ],
   "source": [
    "c1.deposit(2000)"
   ]
  },
  {
   "cell_type": "code",
   "execution_count": null,
   "id": "41607735",
   "metadata": {},
   "outputs": [],
   "source": []
  }
 ],
 "metadata": {
  "kernelspec": {
   "display_name": "Python 3",
   "language": "python",
   "name": "python3"
  },
  "language_info": {
   "codemirror_mode": {
    "name": "ipython",
    "version": 3
   },
   "file_extension": ".py",
   "mimetype": "text/x-python",
   "name": "python",
   "nbconvert_exporter": "python",
   "pygments_lexer": "ipython3",
   "version": "3.13.7"
  }
 },
 "nbformat": 4,
 "nbformat_minor": 5
}
