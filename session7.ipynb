{
 "cells": [
  {
   "cell_type": "markdown",
   "id": "5079bca4",
   "metadata": {},
   "source": [
    "# Polymorphism : is a programming language feature that allows values of different data \n",
    "# types to be handled using a uniform interface.\n",
    "poly = many\n",
    "morphism = forms "
   ]
  },
  {
   "cell_type": "code",
   "execution_count": 2,
   "id": "22780302",
   "metadata": {},
   "outputs": [],
   "source": [
    "# Two types in polymorphic functions :\n",
    "#  1)function overloaded : is when there are multiple functions with the same name but different parameters.\n",
    "#  2)function overriding : is when a subclass provides a specific implementation of a method that is already defined in its superclass."
   ]
  },
  {
   "cell_type": "code",
   "execution_count": 6,
   "id": "d6bbfef4",
   "metadata": {},
   "outputs": [],
   "source": [
    "# Operator overriding"
   ]
  },
  {
   "cell_type": "code",
   "execution_count": 3,
   "id": "0d64ee8b",
   "metadata": {},
   "outputs": [],
   "source": [
    "class India:\n",
    "    def capital(self):\n",
    "        print(\"New Delhi is the capital of India.\")\n",
    "\n",
    "    def language(self):\n",
    "        print(\"Hindi is the official language of India.\")    "
   ]
  },
  {
   "cell_type": "code",
   "execution_count": 4,
   "id": "a6081128",
   "metadata": {},
   "outputs": [],
   "source": [
    "class usa:\n",
    "    def capital(self):\n",
    "        print(\"Washington, D.C. is the capital of USA.\")\n",
    "\n",
    "    def language(self):\n",
    "        print(\"English is the official language of USA.\")"
   ]
  },
  {
   "cell_type": "code",
   "execution_count": 5,
   "id": "5e6933a3",
   "metadata": {},
   "outputs": [],
   "source": [
    "# operator overloading"
   ]
  },
  {
   "cell_type": "code",
   "execution_count": 7,
   "id": "80498303",
   "metadata": {},
   "outputs": [],
   "source": [
    "# create an object "
   ]
  },
  {
   "cell_type": "code",
   "execution_count": 10,
   "id": "7d8913dc",
   "metadata": {},
   "outputs": [
    {
     "name": "stdout",
     "output_type": "stream",
     "text": [
      "New Delhi is the capital of India.\n",
      "Hindi is the official language of India.\n"
     ]
    }
   ],
   "source": [
    "I = India()\n",
    "I.capital()\n",
    "I.language()"
   ]
  },
  {
   "cell_type": "code",
   "execution_count": 14,
   "id": "5a9b6c68",
   "metadata": {},
   "outputs": [
    {
     "name": "stdout",
     "output_type": "stream",
     "text": [
      "Washington, D.C. is the capital of USA.\n",
      "English is the official language of USA.\n"
     ]
    }
   ],
   "source": [
    "U=usa()\n",
    "U.capital()\n",
    "U.language()"
   ]
  },
  {
   "cell_type": "code",
   "execution_count": 15,
   "id": "71192ce8",
   "metadata": {},
   "outputs": [
    {
     "name": "stdout",
     "output_type": "stream",
     "text": [
      "New Delhi is the capital of India.\n",
      "Hindi is the official language of India.\n",
      "Washington, D.C. is the capital of USA.\n",
      "English is the official language of USA.\n"
     ]
    }
   ],
   "source": [
    "for i in I,U:\n",
    "    i.capital()\n",
    "    i.language()"
   ]
  },
  {
   "cell_type": "markdown",
   "id": "1a874b71",
   "metadata": {},
   "source": [
    "# Operator overloading"
   ]
  },
  {
   "cell_type": "code",
   "execution_count": null,
   "id": "6550b369",
   "metadata": {},
   "outputs": [],
   "source": [
    "# # = + __add__\n",
    "# # = - __sub__\n",
    "# #= * __mul__\n",
    "# # = / __div__\n",
    "\n",
    "# & = __and__\n",
    "# | = __or__\n",
    "\n",
    "# > = __gt__\n",
    "# < = __lt__\n",
    "# >= __gte__\n",
    "# <= __lte__\n",
    "# == __eq__"
   ]
  },
  {
   "cell_type": "code",
   "execution_count": 16,
   "id": "27bcdee7",
   "metadata": {},
   "outputs": [],
   "source": [
    "class Addition:\n",
    "    def __init__(self,a):\n",
    "        self.a=a\n",
    "    def __add__(self,other):\n",
    "        return self.a + other.a  "
   ]
  },
  {
   "cell_type": "code",
   "execution_count": 17,
   "id": "83489999",
   "metadata": {},
   "outputs": [],
   "source": [
    "obj1=Addition(5)\n",
    "obj2=Addition(10)"
   ]
  },
  {
   "cell_type": "code",
   "execution_count": null,
   "id": "b1f1c819",
   "metadata": {},
   "outputs": [
    {
     "data": {
      "text/plain": [
       "15"
      ]
     },
     "execution_count": 18,
     "metadata": {},
     "output_type": "execute_result"
    }
   ],
   "source": [
    "obj1+obj2"
   ]
  },
  {
   "cell_type": "code",
   "execution_count": 19,
   "id": "d75e5ac1",
   "metadata": {},
   "outputs": [],
   "source": [
    "# greater than"
   ]
  },
  {
   "cell_type": "code",
   "execution_count": 20,
   "id": "a0770456",
   "metadata": {},
   "outputs": [],
   "source": [
    "class compare_age:\n",
    "    def __init__(self):\n",
    "        self.name=input(\"Enter your name\")\n",
    "        self.age=int(input(\"Enter your age\"))\n",
    "    def __gt__(self,other):\n",
    "        if self.age>other.age:\n",
    "            return F\"{self.name} is older than {other.name}\"\n",
    "        else:\n",
    "             return f\"{self.name} is younger than {other.name}\""
   ]
  },
  {
   "cell_type": "code",
   "execution_count": 21,
   "metadata": {},
   "outputs": [],
   "source": [
    "person1=compare_age()"
   ]
  },
  {
   "cell_type": "code",
   "execution_count": 22,
   "metadata": {},
   "outputs": [],
   "source": [
    "person2=compare_age()"
   ]
  },
  {
   "cell_type": "code",
   "execution_count": 23,
   "id": "31aeca88",
   "metadata": {},
   "outputs": [
    {
     "data": {
      "text/plain": [
       "'sujit is younger than pratham'"
      ]
     },
     "execution_count": 23,
     "metadata": {},
     "output_type": "execute_result"
    }
   ],
   "source": [
    "person1 > person2"
   ]
  },
  {
   "cell_type": "code",
   "execution_count": 24,
   "id": "dcdfbf06",
   "metadata": {},
   "outputs": [],
   "source": [
    "# __and__ operator"
   ]
  },
  {
   "cell_type": "code",
   "execution_count": 25,
   "metadata": {},
   "outputs": [],
   "source": [
    "class check_divisibility:\n",
    "    def __init__(self):\n",
    "        self.num=int(input(\"Enter a number\"))\n",
    "    def __and__(self,other):\n",
    "        if self.num %2==0 and other.num %2==0:\n",
    "            return f\"Both  numbers is even\"\n",
    "        else:\n",
    "            return f\"Both number are odd\""
   ]
  },
  {
   "cell_type": "code",
   "execution_count": 28,
   "metadata": {},
   "outputs": [],
   "source": [
    "o1=check_divisibility()"
   ]
  },
  {
   "cell_type": "code",
   "execution_count": 29,
   "metadata": {},
   "outputs": [],
   "source": [
    "o2=check_divisibility"
   ]
  },
  {
   "cell_type": "code",
   "execution_count": 30,
   "metadata": {},
   "outputs": [
    {
     "data": {
      "text/plain": [
       "'Both number are odd'"
      ]
     },
     "execution_count": 30,
     "metadata": {},
     "output_type": "execute_result"
    }
   ],
   "source": [
    "o1 & o2"
   ]
  },
  {
   "cell_type": "code",
   "execution_count": 31,
   "id": "6111c13f",
   "metadata": {},
   "outputs": [],
   "source": [
    "# complex number = combinatoion of real and imaginary number\n",
    "\n"
   ]
  },
  {
   "cell_type": "code",
   "execution_count": 34,
   "id": "bfd30414",
   "metadata": {},
   "outputs": [],
   "source": [
    "class complex_number:\n",
    "    def __init__(self,a,b):\n",
    "        self.a=a\n",
    "        self.b=b\n",
    "    def __add__(self,other):\n",
    "        return f\"{self.a+other.a}+i{self.b+other.b}\""
   ]
  },
  {
   "cell_type": "code",
   "execution_count": 37,
   "id": "664aa5a8",
   "metadata": {},
   "outputs": [],
   "source": [
    "c1=complex_number(2,3)\n",
    "c2=complex_number(4,5)"
   ]
  },
  {
   "cell_type": "code",
   "execution_count": 38,
   "metadata": {},
   "outputs": [
    {
     "data": {
      "text/plain": [
       "'6+i8'"
      ]
     },
     "execution_count": 38,
     "metadata": {},
     "output_type": "execute_result"
    }
   ],
   "source": [
    "c1+c2"
   ]
  },
  {
   "cell_type": "code",
   "execution_count": null,
   "metadata": {},
   "outputs": [],
   "source": []
  },
  {
   "cell_type": "code",
   "execution_count": null,
   "metadata": {},
   "outputs": [],
   "source": []
  },
  {
   "cell_type": "code",
   "execution_count": null,
   "id": "c954e4dc",
   "metadata": {},
   "outputs": [],
   "source": []
  },
  {
   "cell_type": "code",
   "execution_count": null,
   "id": "99df4c23",
   "metadata": {},
   "outputs": [],
   "source": [
    "what is complex number in python?\n",
    "A complex number in Python is a number that has both a real part and an imaginary part."
   ]
  }
 ],
 "metadata": {
  "kernelspec": {
   "display_name": "Python 3",
   "language": "python",
   "name": "python3"
  },
  "language_info": {
   "codemirror_mode": {
    "name": "ipython",
    "version": 3
   },
   "file_extension": ".py",
   "mimetype": "text/x-python",
   "name": "python",
   "nbconvert_exporter": "python",
   "pygments_lexer": "ipython3",
   "version": "3.13.9"
  }
 },
 "nbformat": 4,
 "nbformat_minor": 5
}
