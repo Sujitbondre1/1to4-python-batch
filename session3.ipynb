{
 "cells": [
  {
   "cell_type": "markdown",
   "id": "bedfd5ac",
   "metadata": {},
   "source": [
    "# calculate interest \n",
    "interest=(prt)/100"
   ]
  },
  {
   "cell_type": "code",
   "execution_count": 1,
   "id": "5ccc51a9",
   "metadata": {},
   "outputs": [],
   "source": [
    "# defining a function\n",
    "def calculate_interest(p, r, t):\n",
    "    # calculate interest \n",
    "    interest=(p*r*t)/100\n",
    "    print(\"The interest is:\", interest)"
   ]
  },
  {
   "cell_type": "code",
   "execution_count": 2,
   "id": "0509b416",
   "metadata": {},
   "outputs": [
    {
     "name": "stdout",
     "output_type": "stream",
     "text": [
      "The interest is: 100.0\n"
     ]
    }
   ],
   "source": [
    "calculate_interest(1000, 5, 2)"
   ]
  },
  {
   "cell_type": "code",
   "execution_count": 3,
   "id": "5997e29f",
   "metadata": {},
   "outputs": [
    {
     "name": "stdout",
     "output_type": "stream",
     "text": [
      "The interest is: 1000.0\n"
     ]
    }
   ],
   "source": [
    "calculate_interest(50000, 2, 1)"
   ]
  },
  {
   "cell_type": "code",
   "execution_count": 5,
   "id": "61ca7435",
   "metadata": {},
   "outputs": [],
   "source": [
    "# create function fo printing table of a number\n",
    "def pri_table(n):\n",
    "    for i in range(1, 11):\n",
    "        print(n*i)"
   ]
  },
  {
   "cell_type": "code",
   "execution_count": 8,
   "id": "46bd2427",
   "metadata": {},
   "outputs": [
    {
     "name": "stdout",
     "output_type": "stream",
     "text": [
      "9\n",
      "18\n",
      "27\n",
      "36\n",
      "45\n",
      "54\n",
      "63\n",
      "72\n",
      "81\n",
      "90\n"
     ]
    }
   ],
   "source": [
    "pri_table(9) # paramaters"
   ]
  },
  {
   "cell_type": "code",
   "execution_count": 9,
   "id": "367d0f16",
   "metadata": {},
   "outputs": [],
   "source": [
    "# args = this  will act as a tuple in function\n",
    "# used for accepting multiple values in function\n",
    "\n"
   ]
  },
  {
   "cell_type": "code",
   "execution_count": 15,
   "id": "9e994575",
   "metadata": {},
   "outputs": [],
   "source": [
    "lst=[2,3,6,5,4,7,8]"
   ]
  },
  {
   "cell_type": "code",
   "execution_count": 16,
   "id": "ca91335b",
   "metadata": {},
   "outputs": [],
   "source": [
    "def information(*lst):\n",
    "    print(f\"values:{lst}\")\n",
    "    print(f\"type:{type(lst)}\")\n",
    "    for i in lst:\n",
    "        print(i)"
   ]
  },
  {
   "cell_type": "code",
   "execution_count": 17,
   "id": "3a705d03",
   "metadata": {},
   "outputs": [
    {
     "name": "stdout",
     "output_type": "stream",
     "text": [
      "values:([2, 3, 6, 5, 4, 7, 8],)\n",
      "type:<class 'tuple'>\n",
      "[2, 3, 6, 5, 4, 7, 8]\n"
     ]
    }
   ],
   "source": [
    "information(lst)"
   ]
  },
  {
   "cell_type": "code",
   "execution_count": 18,
   "id": "fcd172b8",
   "metadata": {},
   "outputs": [],
   "source": [
    "# multiplication of a number\n",
    "def multi(*lst):\n",
    "    result=1\n",
    "    for i in lst:\n",
    "        result=result*i\n",
    "    print(\"The multiplication is:\", result)"
   ]
  },
  {
   "cell_type": "code",
   "execution_count": 20,
   "id": "af1926bb",
   "metadata": {},
   "outputs": [
    {
     "name": "stdout",
     "output_type": "stream",
     "text": [
      "The multiplication is: 40320\n"
     ]
    }
   ],
   "source": [
    "multi(*lst)"
   ]
  },
  {
   "cell_type": "code",
   "execution_count": 28,
   "id": "1505bbac",
   "metadata": {},
   "outputs": [],
   "source": [
    "cart=[\n",
    "    ('laptop', 50000,1),\n",
    "    ('mobile', 20000,2),\n",
    "    ('tv', 30000,3),\n",
    "    ('headphones', 2000,4)\n",
    "]"
   ]
  },
  {
   "cell_type": "code",
   "execution_count": 33,
   "id": "14a086f1",
   "metadata": {},
   "outputs": [],
   "source": [
    "def print_info(*args):\n",
    "    total_price=0\n",
    "    # print infomation\n",
    "    for name,price,qty in args:\n",
    "        print(f'Name:{name},price:{price},qty:{qty}')\n",
    "        print('------------------------------------------')\n",
    "        total_price=total_price+price\n",
    "    return f'total price is : {total_price}'"
   ]
  },
  {
   "cell_type": "code",
   "execution_count": 34,
   "id": "c91ec796",
   "metadata": {},
   "outputs": [
    {
     "name": "stdout",
     "output_type": "stream",
     "text": [
      "Name:laptop,price:50000,qty:1\n",
      "------------------------------------------\n",
      "Name:mobile,price:20000,qty:2\n",
      "------------------------------------------\n",
      "Name:tv,price:30000,qty:3\n",
      "------------------------------------------\n",
      "Name:headphones,price:2000,qty:4\n",
      "------------------------------------------\n"
     ]
    },
    {
     "data": {
      "text/plain": [
       "'total price is : 102000'"
      ]
     },
     "execution_count": 34,
     "metadata": {},
     "output_type": "execute_result"
    }
   ],
   "source": [
    "print_info(*cart)"
   ]
  },
  {
   "cell_type": "code",
   "execution_count": null,
   "id": "b6629d4b",
   "metadata": {},
   "outputs": [],
   "source": [
    "cart=[\n",
    "    ('smith',20,20000),\n",
    "    ('Avdhut',99,30000),\n",
    "    ('sujit',22,40000),\n",
    "    ('rohan',23,50000)\n",
    "]"
   ]
  },
  {
   "cell_type": "code",
   "execution_count": 39,
   "id": "aeedca36",
   "metadata": {},
   "outputs": [],
   "source": [
    "def emp_info(*args):\n",
    "    total_salary=0\n",
    "    # print infomation of employee\n",
    "    for name,age,salary in args:\n",
    "        print(f'Name:{name},age:{age},salary:{salary}')\n",
    "        print('__________________________________________')\n",
    "        total_salary=total_salary+salary\n",
    "    return f'Total salary is : {total_salary}'"
   ]
  },
  {
   "cell_type": "code",
   "execution_count": 40,
   "id": "4b146321",
   "metadata": {},
   "outputs": [
    {
     "name": "stdout",
     "output_type": "stream",
     "text": [
      "Name:smith,age:20,salary:20000\n",
      "__________________________________________\n",
      "Name:Avdhut,age:99,salary:30000\n",
      "__________________________________________\n",
      "Name:sujit,age:22,salary:40000\n",
      "__________________________________________\n",
      "Name:rohan,age:23,salary:50000\n",
      "__________________________________________\n"
     ]
    },
    {
     "data": {
      "text/plain": [
       "'Total salary is : 140000'"
      ]
     },
     "execution_count": 40,
     "metadata": {},
     "output_type": "execute_result"
    }
   ],
   "source": [
    "emp_info(*cart)"
   ]
  },
  {
   "cell_type": "code",
   "execution_count": 42,
   "id": "6db8a8cb",
   "metadata": {},
   "outputs": [],
   "source": [
    "def display(**kwargs):\n",
    "    print(f\"values:{kwargs}\")\n",
    "    for key,value in kwargs.items():\n",
    "        print(f\"key={key}\\nvalue={value}\")"
   ]
  },
  {
   "cell_type": "code",
   "execution_count": 43,
   "id": "72381a43",
   "metadata": {},
   "outputs": [
    {
     "name": "stdout",
     "output_type": "stream",
     "text": [
      "values:{'name': 'sujit', 'age': 22, 'salary': 40000}\n",
      "key=name\n",
      "value=sujit\n",
      "key=age\n",
      "value=22\n",
      "key=salary\n",
      "value=40000\n"
     ]
    }
   ],
   "source": [
    "display(name=\"sujit\", age=22, salary=40000)"
   ]
  },
  {
   "cell_type": "code",
   "execution_count": 48,
   "id": "71dfeb7f",
   "metadata": {},
   "outputs": [],
   "source": [
    "# what is lambda function ? : used to create small calculation function   "
   ]
  },
  {
   "cell_type": "code",
   "execution_count": 45,
   "id": "09ce4e94",
   "metadata": {},
   "outputs": [
    {
     "name": "stdout",
     "output_type": "stream",
     "text": [
      "The addition is: 11\n"
     ]
    }
   ],
   "source": [
    "# lambda functions\n",
    "# anonymous function\n",
    "add=lambda a,b:a+b\n",
    "print(\"The addition is:\", add(5,6))"
   ]
  },
  {
   "cell_type": "code",
   "execution_count": 47,
   "id": "d1161012",
   "metadata": {},
   "outputs": [
    {
     "name": "stdout",
     "output_type": "stream",
     "text": [
      "The square is: 36\n"
     ]
    }
   ],
   "source": [
    "# cal square of a number\n",
    "square=lambda n:n*n \n",
    "print(\"The square is:\", square(6))  "
   ]
  },
  {
   "cell_type": "code",
   "execution_count": null,
   "id": "e4e333e5",
   "metadata": {},
   "outputs": [],
   "source": []
  }
 ],
 "metadata": {
  "kernelspec": {
   "display_name": "Python 3",
   "language": "python",
   "name": "python3"
  },
  "language_info": {
   "codemirror_mode": {
    "name": "ipython",
    "version": 3
   },
   "file_extension": ".py",
   "mimetype": "text/x-python",
   "name": "python",
   "nbconvert_exporter": "python",
   "pygments_lexer": "ipython3",
   "version": "3.13.7"
  }
 },
 "nbformat": 4,
 "nbformat_minor": 5
}
