{
 "cells": [
  {
   "cell_type": "code",
   "execution_count": 1,
   "id": "0ca382b0",
   "metadata": {},
   "outputs": [],
   "source": [
    "# def functions_name(parameters):\n",
    "#     '''logical part'''"
   ]
  },
  {
   "cell_type": "code",
   "execution_count": 2,
   "id": "0b98ec3e",
   "metadata": {},
   "outputs": [],
   "source": [
    "# defining a function\n",
    "def greet():\n",
    "    print('Hello, Good Morning')"
   ]
  },
  {
   "cell_type": "code",
   "execution_count": 5,
   "id": "19e57805",
   "metadata": {},
   "outputs": [
    {
     "name": "stdout",
     "output_type": "stream",
     "text": [
      "Hello, Good Morning\n",
      "Hello, Good Morning\n"
     ]
    }
   ],
   "source": [
    "# calling a function\n",
    "greet()\n",
    "greet()"
   ]
  },
  {
   "cell_type": "code",
   "execution_count": 6,
   "id": "9cd95b5d",
   "metadata": {},
   "outputs": [],
   "source": [
    "# functions with parameters\n",
    "def greet1(name):\n",
    "    print(f'Welcome to the world of Python, {name}')"
   ]
  },
  {
   "cell_type": "code",
   "execution_count": 7,
   "id": "8d97ea79",
   "metadata": {},
   "outputs": [
    {
     "name": "stdout",
     "output_type": "stream",
     "text": [
      "Welcome to the world of Python, Sujit\n"
     ]
    }
   ],
   "source": [
    "# calling a function\n",
    "greet1('Sujit')"
   ]
  },
  {
   "cell_type": "code",
   "execution_count": 10,
   "id": "d00673b5",
   "metadata": {},
   "outputs": [],
   "source": [
    "def mul(a,b):\n",
    "    print(f'Multiplication is {a*b}')"
   ]
  },
  {
   "cell_type": "code",
   "execution_count": 11,
   "id": "421666ac",
   "metadata": {},
   "outputs": [
    {
     "name": "stdout",
     "output_type": "stream",
     "text": [
      "Multiplication is 10\n"
     ]
    }
   ],
   "source": [
    "mul(5,2)"
   ]
  },
  {
   "cell_type": "code",
   "execution_count": 12,
   "id": "8716002e",
   "metadata": {},
   "outputs": [],
   "source": [
    "def mul(a,b):\n",
    "    print(f'Multiplication of {a} and {b} is {a*b}')"
   ]
  },
  {
   "cell_type": "code",
   "execution_count": 13,
   "id": "d0256c1d",
   "metadata": {},
   "outputs": [
    {
     "name": "stdout",
     "output_type": "stream",
     "text": [
      "Multiplication of 5 and 6 is 30\n"
     ]
    }
   ],
   "source": [
    "mul(5,6)"
   ]
  },
  {
   "cell_type": "code",
   "execution_count": 14,
   "id": "7b83e943",
   "metadata": {},
   "outputs": [],
   "source": [
    "# Print table of any number\n",
    "def table(n):\n",
    "    for i in range(1,11):\n",
    "        print(f'{n} x {i} = {n*i}')"
   ]
  },
  {
   "cell_type": "code",
   "execution_count": 15,
   "metadata": {},
   "outputs": [
    {
     "name": "stdout",
     "output_type": "stream",
     "text": [
      "7 x 1 = 7\n",
      "7 x 2 = 14\n",
      "7 x 3 = 21\n",
      "7 x 4 = 28\n",
      "7 x 5 = 35\n",
      "7 x 6 = 42\n",
      "7 x 7 = 49\n",
      "7 x 8 = 56\n",
      "7 x 9 = 63\n",
      "7 x 10 = 70\n"
     ]
    }
   ],
   "source": [
    "table(7)"
   ]
  },
  {
   "cell_type": "code",
   "execution_count": 16,
   "id": "8cf1dd53",
   "metadata": {},
   "outputs": [],
   "source": [
    "# calculate cube\n",
    "def cal_cube(n):\n",
    "    print(f'Cube of {n} is {n*n*n}')"
   ]
  },
  {
   "cell_type": "code",
   "execution_count": 17,
   "metadata": {},
   "outputs": [
    {
     "name": "stdout",
     "output_type": "stream",
     "text": [
      "Cube of 5 is 125\n"
     ]
    }
   ],
   "source": [
    "cal_cube(5)"
   ]
  },
  {
   "cell_type": "code",
   "execution_count": 18,
   "id": "25cf00bd",
   "metadata": {},
   "outputs": [],
   "source": [
    "# write a function in python to calculate cube of given number from list\n",
    "lst=[2,6,5,9,8,7,5]"
   ]
  },
  {
   "cell_type": "code",
   "execution_count": 29,
   "id": "31a9e4dd",
   "metadata": {},
   "outputs": [],
   "source": [
    "def cal_cube(lst):\n",
    "    for i in lst:\n",
    "        print(f'Cube of {i} is {i*i*i}')"
   ]
  },
  {
   "cell_type": "code",
   "execution_count": 31,
   "id": "2adc8635",
   "metadata": {},
   "outputs": [
    {
     "name": "stdout",
     "output_type": "stream",
     "text": [
      "Cube of 2 is 8\n",
      "Cube of 6 is 216\n",
      "Cube of 5 is 125\n",
      "Cube of 9 is 729\n",
      "Cube of 8 is 512\n",
      "Cube of 7 is 343\n",
      "Cube of 5 is 125\n"
     ]
    }
   ],
   "source": [
    "cal_cube(lst)"
   ]
  },
  {
   "cell_type": "code",
   "execution_count": null,
   "id": "2a0fc2fd",
   "metadata": {},
   "outputs": [],
   "source": []
  },
  {
   "cell_type": "code",
   "execution_count": null,
   "id": "048a09c7",
   "metadata": {},
   "outputs": [],
   "source": [
    "# write a function in python to calculate hypotenuse of right angled triangle\n",
    "# (AC)^2 = (AB)^2 + (BC)^2\n",
    "# c^2 = a^2 + b^2\n",
    "# c=(a^2 + b^2)^0.5# "
   ]
  },
  {
   "cell_type": "code",
   "execution_count": 38,
   "id": "b0e4e054",
   "metadata": {},
   "outputs": [],
   "source": [
    "# write a function in python to calculate hypotenuse of right angled triangle\n",
    "def cal_hypotenuse(a,b):\n",
    "    c=(a**2 + b**2)**0.5\n",
    "    print(f'Hypotenuse is {c}')"
   ]
  },
  {
   "cell_type": "code",
   "execution_count": 39,
   "id": "831f28cb",
   "metadata": {},
   "outputs": [
    {
     "name": "stdout",
     "output_type": "stream",
     "text": [
      "Hypotenuse is 6.4031242374328485\n"
     ]
    }
   ],
   "source": [
    "cal_hypotenuse(4,5)"
   ]
  },
  {
   "cell_type": "code",
   "execution_count": 45,
   "id": "325f0feb",
   "metadata": {},
   "outputs": [],
   "source": [
    "# write a function in  python whic takes 3 sides and determine whether it is a right angled triangle or not\n",
    "def tri(a,b,c):\n",
    "    if a<b+c and b<a+c and c<a+b:\n",
    "            print('It is a right angled triangle')\n",
    "    else:\n",
    "            print('It is not a right angled triangle')"
   ]
  },
  {
   "cell_type": "code",
   "execution_count": 46,
   "id": "284389da",
   "metadata": {},
   "outputs": [
    {
     "name": "stdout",
     "output_type": "stream",
     "text": [
      "It is a right angled triangle\n"
     ]
    }
   ],
   "source": [
    "tri(3,4,5)"
   ]
  },
  {
   "cell_type": "code",
   "execution_count": 56,
   "id": "50c7bdb9",
   "metadata": {},
   "outputs": [],
   "source": [
    "# write a function in pyton to calculate area of triangle\n",
    "def area(a,b,c):\n",
    "    s=(a+b+c)/2\n",
    "    area=(s*(s-a)*(s-b)*(s-c))**0.5\n",
    "    print(f'Area of triangle is {area}')"
   ]
  },
  {
   "cell_type": "code",
   "execution_count": 58,
   "id": "49241bf0",
   "metadata": {},
   "outputs": [
    {
     "name": "stdout",
     "output_type": "stream",
     "text": [
      "Area of triangle is 87.74964387392122\n"
     ]
    }
   ],
   "source": [
    "area(15,17,12)"
   ]
  },
  {
   "cell_type": "code",
   "execution_count": null,
   "id": "33031780",
   "metadata": {},
   "outputs": [],
   "source": []
  }
 ],
 "metadata": {
  "kernelspec": {
   "display_name": "Python 3",
   "language": "python",
   "name": "python3"
  },
  "language_info": {
   "codemirror_mode": {
    "name": "ipython",
    "version": 3
   },
   "file_extension": ".py",
   "mimetype": "text/x-python",
   "name": "python",
   "nbconvert_exporter": "python",
   "pygments_lexer": "ipython3",
   "version": "3.13.7"
  }
 },
 "nbformat": 4,
 "nbformat_minor": 5
}
