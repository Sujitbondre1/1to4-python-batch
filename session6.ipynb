{
 "cells": [
  {
   "cell_type": "code",
   "execution_count": null,
   "id": "73e63a36",
   "metadata": {},
   "outputs": [],
   "source": [
    "# What is inheritance in Python? : \n",
    "# Inheritance is a fundamental concept in object-oriented programming (OOP) that allows a class\n",
    "# (called the child or subclass) to inherit"
   ]
  },
  {
   "cell_type": "code",
   "execution_count": null,
   "id": "c941b9c7",
   "metadata": {},
   "outputs": [],
   "source": [
    "# Types of Inheritance in Python:\n",
    "# 1. Single Inheritance\n",
    "# 2. Multiple Inheritance\n",
    "# 3. Multilevel Inheritance\n",
    "# 4. Hierarchical Inheritance "
   ]
  },
  {
   "cell_type": "markdown",
   "id": "00d7f65c",
   "metadata": {},
   "source": [
    "# Single Inheritance:"
   ]
  },
  {
   "cell_type": "code",
   "execution_count": null,
   "id": "8d9f5c40",
   "metadata": {},
   "outputs": [],
   "source": []
  }
 ],
 "metadata": {
  "language_info": {
   "name": "python"
  }
 },
 "nbformat": 4,
 "nbformat_minor": 5
}
